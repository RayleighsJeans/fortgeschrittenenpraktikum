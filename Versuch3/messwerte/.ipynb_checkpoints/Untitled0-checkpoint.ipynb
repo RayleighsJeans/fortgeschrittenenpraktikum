{
 "metadata": {
  "name": "",
  "signature": "sha256:ab2ca6a6dd276453643ec71c51547de169ebd54264001a0f89a0f31ed12036e2"
 },
 "nbformat": 3,
 "nbformat_minor": 0,
 "worksheets": []
}